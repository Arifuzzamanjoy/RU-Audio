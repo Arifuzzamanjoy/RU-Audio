{
  "nbformat": 4,
  "nbformat_minor": 0,
  "metadata": {
    "colab": {
      "provenance": [],
      "authorship_tag": "ABX9TyM82GhorvdmfIoAYbNP5TxG",
      "include_colab_link": true
    },
    "kernelspec": {
      "name": "python3",
      "display_name": "Python 3"
    },
    "language_info": {
      "name": "python"
    }
  },
  "cells": [
    {
      "cell_type": "markdown",
      "metadata": {
        "id": "view-in-github",
        "colab_type": "text"
      },
      "source": [
        "<a href=\"https://colab.research.google.com/github/Arifuzzamanjoy/RU-Audio/blob/main/Cache_management.ipynb\" target=\"_parent\"><img src=\"https://colab.research.google.com/assets/colab-badge.svg\" alt=\"Open In Colab\"/></a>"
      ]
    },
    {
      "cell_type": "code",
      "source": [
        "!pip install datasets[audio]\n",
        "!pip install -q datasets transformers\n"
      ],
      "metadata": {
        "id": "ue3GDGdbXVK7"
      },
      "execution_count": null,
      "outputs": []
    },
    {
      "cell_type": "code",
      "source": [
        "dataset=load_dataset(\"audiofolder\",data_dir=\"/content/drive/MyDrive/Colab Notebooks/ch1\")"
      ],
      "metadata": {
        "id": "Hhtgoic4XeFB"
      },
      "execution_count": null,
      "outputs": []
    },
    {
      "cell_type": "code",
      "execution_count": null,
      "metadata": {
        "id": "Y3K2IDVPXEYG"
      },
      "outputs": [],
      "source": [
        "from datasets import load_dataset\n",
        "dataset = load_dataset('LOADING_SCRIPT', cache_dir=\"PATH/TO/MY/CACHE/DIR\")"
      ]
    },
    {
      "cell_type": "code",
      "source": [
        "from datasets import load_metric\n",
        "metric = load_metric('glue', 'mrpc', cache_dir=\"MY/CACHE/DIRECTORY\")"
      ],
      "metadata": {
        "id": "T78kXasTXnTz"
      },
      "execution_count": null,
      "outputs": []
    },
    {
      "cell_type": "code",
      "source": [
        "from datasets import load_dataset\n",
        "dataset = load_dataset('squad', download_mode='force_redownload')"
      ],
      "metadata": {
        "id": "3Jv8ZVyCXsIP"
      },
      "execution_count": null,
      "outputs": []
    },
    {
      "cell_type": "code",
      "source": [
        "dataset.cleanup_cache_files()\n"
      ],
      "metadata": {
        "id": "FlqiAJn5XyLl"
      },
      "execution_count": null,
      "outputs": []
    },
    {
      "cell_type": "code",
      "source": [
        "updated_dataset = small_dataset.map(add_prefix, load_from_cache_file=False)"
      ],
      "metadata": {
        "id": "q5FpJMxPX2Po"
      },
      "execution_count": null,
      "outputs": []
    },
    {
      "cell_type": "code",
      "source": [
        "from datasets import disable_caching\n",
        "disable_caching()"
      ],
      "metadata": {
        "id": "HECxyksnX4uS"
      },
      "execution_count": null,
      "outputs": []
    },
    {
      "cell_type": "code",
      "source": [
        "from datasets import load_metric\n",
        "metric = load_metric('glue', 'mrpc', keep_in_memory=True)"
      ],
      "metadata": {
        "id": "CXf_XYhHX9ok"
      },
      "execution_count": null,
      "outputs": []
    }
  ]
}